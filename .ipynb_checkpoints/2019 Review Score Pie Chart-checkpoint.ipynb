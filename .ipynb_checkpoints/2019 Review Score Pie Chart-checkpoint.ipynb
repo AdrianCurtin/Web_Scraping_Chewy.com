{
 "cells": [
  {
   "cell_type": "code",
   "execution_count": null,
   "metadata": {},
   "outputs": [],
   "source": [
    "import pandas as pd\n",
    "\n",
    "#read data\n",
    "chewy_df=pd.read_csv('chewy_review.csv')\n",
    "\n",
    "#check # of rows and columns\n",
    "chewy_df.shape"
   ]
  },
  {
   "cell_type": "code",
   "execution_count": null,
   "metadata": {},
   "outputs": [],
   "source": [
    "#keep only reviewRating and date column\n",
    "Star=chewy_df[['reviewRating', 'date']].copy()\n",
    "\n",
    "#add year\"\n",
    "Star['year']=Star.date.apply(lambda x: int(x[:4]))\n",
    "\n",
    "#keep 2019 data data only\n",
    "Star=Star[Star['year']>2018]\n",
    "Star['Count']=1\n",
    "Star=Star.groupby('reviewRating').count()\n"
   ]
  },
  {
   "cell_type": "code",
   "execution_count": null,
   "metadata": {},
   "outputs": [],
   "source": [
    "#graph with matplotlib\n",
    "%matplotlib inline\n",
    "import matplotlib.pyplot as plt\n",
    "\n",
    "plot = Star.plot.pie(y='Count', figsize=(5, 5))\n",
    "\n",
    "plt.ylabel('Count of Star Rating')\n",
    "plt.title('2019 Review Score')"
   ]
  },
  {
   "cell_type": "code",
   "execution_count": null,
   "metadata": {},
   "outputs": [],
   "source": [
    "#Graph with Plotly\n",
    "import plotly.graph_objects as go\n",
    "labels = ['Oxygen','Hydrogen','Carbon_Dioxide','Nitrogen']\n",
    "values = [4500, 2500, 1053, 500]\n",
    "fig = go.Figure(data=[go.Pie(labels=Star.index, values=Star.Count, hole=.3)])\n",
    "fig.update_layout(title_text=\" 2019 Review Score\",  width=500, height=500,\n",
    "                annotations=[dict(text='Review Score', x=0.5, y=0.5, font_size=20, showarrow=False)])\n",
    "fig.show()"
   ]
  },
  {
   "cell_type": "code",
   "execution_count": null,
   "metadata": {},
   "outputs": [],
   "source": []
  }
 ],
 "metadata": {
  "kernelspec": {
   "display_name": "Python 3",
   "language": "python",
   "name": "python3"
  },
  "language_info": {
   "codemirror_mode": {
    "name": "ipython",
    "version": 3
   },
   "file_extension": ".py",
   "mimetype": "text/x-python",
   "name": "python",
   "nbconvert_exporter": "python",
   "pygments_lexer": "ipython3",
   "version": "3.7.3"
  }
 },
 "nbformat": 4,
 "nbformat_minor": 2
}
